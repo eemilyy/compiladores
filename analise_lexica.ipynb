{
 "cells": [
  {
   "cell_type": "code",
   "execution_count": 192,
   "metadata": {},
   "outputs": [],
   "source": [
    "import pandas as pd\n",
    "import numpy as np"
   ]
  },
  {
   "cell_type": "code",
   "execution_count": 193,
   "metadata": {},
   "outputs": [],
   "source": [
    "arquivo = open('linguagem', 'r') \n",
    "#conteudo = arquivo.readlines() \n",
    "#print(conteudo)"
   ]
  },
  {
   "cell_type": "code",
   "execution_count": 194,
   "metadata": {},
   "outputs": [
    {
     "data": {
      "text/html": [
       "<div>\n",
       "<style scoped>\n",
       "    .dataframe tbody tr th:only-of-type {\n",
       "        vertical-align: middle;\n",
       "    }\n",
       "\n",
       "    .dataframe tbody tr th {\n",
       "        vertical-align: top;\n",
       "    }\n",
       "\n",
       "    .dataframe thead th {\n",
       "        text-align: right;\n",
       "    }\n",
       "</style>\n",
       "<table border=\"1\" class=\"dataframe\">\n",
       "  <thead>\n",
       "    <tr style=\"text-align: right;\">\n",
       "      <th></th>\n",
       "      <th>Token</th>\n",
       "      <th>Lexema</th>\n",
       "    </tr>\n",
       "  </thead>\n",
       "  <tbody>\n",
       "  </tbody>\n",
       "</table>\n",
       "</div>"
      ],
      "text/plain": [
       "Empty DataFrame\n",
       "Columns: [Token, Lexema]\n",
       "Index: []"
      ]
     },
     "execution_count": 194,
     "metadata": {},
     "output_type": "execute_result"
    }
   ],
   "source": [
    "df = pd.DataFrame()\n",
    "COLUNAS = [\n",
    "    'Token',\n",
    "    'Lexema'\n",
    "]\n",
    "\n",
    "df = pd.DataFrame(columns = COLUNAS)\n",
    "df"
   ]
  },
  {
   "cell_type": "code",
   "execution_count": 195,
   "metadata": {},
   "outputs": [],
   "source": [
    "# for i in range(len(conteudo)):\n",
    "#     print(conteudo[i])\n",
    "#     if('int ' in conteudo[i] or 'double ' in conteudo[i]):\n",
    "#         print(\"<tipo>\")\n",
    "        \n",
    "        #df.append(conteudo)\n",
    "        #if('int main()'in conteudo[i]):"
   ]
  },
  {
   "cell_type": "code",
   "execution_count": 196,
   "metadata": {},
   "outputs": [],
   "source": [
    "palavras_reservadas = [\"main\",\n",
    "                        \"int\",\n",
    "                        \"boolean\",\n",
    "                        \"const\",\n",
    "                        \"def\",\n",
    "                        \"procedure\",\n",
    "                        \"return\",\n",
    "                        \"while\",\n",
    "                        \"break\",\n",
    "                        \"continue\",\n",
    "                        \"printf\"]"
   ]
  },
  {
   "cell_type": "code",
   "execution_count": 197,
   "metadata": {},
   "outputs": [
    {
     "name": "stdout",
     "output_type": "stream",
     "text": [
      "m\n",
      "ma\n",
      "mai\n",
      "palavra reservada\n",
      "main\n",
      "\n",
      "\n",
      "\n",
      "i\n",
      "in\n",
      "palavra reservada\n",
      "int\n",
      "\n",
      "a\n",
      "\n",
      "\n",
      "\n",
      "1\n",
      "10\n",
      "10\n",
      "\n",
      "\n",
      "\n"
     ]
    }
   ],
   "source": [
    "import re\n",
    "\n",
    "variavel = \"\"\n",
    "\n",
    "while(1):\n",
    "    char = arquivo.read(1)\n",
    "    if not char:\n",
    "        break\n",
    "    else:\n",
    "        if(re.match(' ', char)):\n",
    "            variavel = \"\"\n",
    "        else:\n",
    "            if(re.match('[a-zA-Z]', char)):\n",
    "                #print(\"string\")\n",
    "                variavel = variavel + char\n",
    "            elif(re.match('[0-9]', char)):\n",
    "                variavel = variavel + char\n",
    "            #print('number')\n",
    "        #elif(re.match('{', char)):\n",
    "        #    print(\"abre {\")\n",
    "\n",
    "    if(variavel in palavras_reservadas):\n",
    "        print(\"palavra reservada\")\n",
    "    print(variavel)"
   ]
  }
 ],
 "metadata": {
  "interpreter": {
   "hash": "916dbcbb3f70747c44a77c7bcd40155683ae19c65e1c03b4aa3499c5328201f1"
  },
  "kernelspec": {
   "display_name": "Python 3.8.10 64-bit",
   "language": "python",
   "name": "python3"
  },
  "language_info": {
   "codemirror_mode": {
    "name": "ipython",
    "version": 3
   },
   "file_extension": ".py",
   "mimetype": "text/x-python",
   "name": "python",
   "nbconvert_exporter": "python",
   "pygments_lexer": "ipython3",
   "version": "3.8.10"
  },
  "orig_nbformat": 4
 },
 "nbformat": 4,
 "nbformat_minor": 2
}
